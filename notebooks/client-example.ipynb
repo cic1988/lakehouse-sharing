{
 "cells": [
  {
   "cell_type": "markdown",
   "id": "2532defd",
   "metadata": {},
   "source": [
    "## Lakehouse Sharing Example"
   ]
  },
  {
   "cell_type": "markdown",
   "id": "3f90b473",
   "metadata": {},
   "source": [
    "### Notebook setup \n",
    "\n",
    "Since we already have virtualenvs setup , to use the delta-sharing client for this lakehouse-sharing server, follow below steps\n",
    "- install ipykernel\n",
    "\n",
    "   ``` \n",
    "   pip install ipykernel\n",
    "   ```\n",
    "- register virtualenv in jupyter notebook\n",
    "    ``` \n",
    "    source venv/bin/activate\n",
    "    python -m ipykernel install --user --name=lakehouse-sharing\n",
    "    ```\n",
    "- Install deltasharing python client\n",
    "\n",
    "    ```\n",
    "    pip install delta-sharing\n",
    "    ```"
   ]
  },
  {
   "cell_type": "code",
   "execution_count": 13,
   "id": "ff71954b",
   "metadata": {},
   "outputs": [],
   "source": [
    "import delta_sharing\n",
    "from delta_sharing import Share,Schema,Table\n",
    "# Point to the profile file. It can be a file on the local file system or a file on a remote storage.\n",
    "profile_file = \"profile.json\"\n",
    "\n",
    "# Create a SharingClient.\n",
    "client = delta_sharing.SharingClient(profile_file)\n",
    "\n",
    "\n"
   ]
  },
  {
   "cell_type": "markdown",
   "id": "071ffd93",
   "metadata": {},
   "source": [
    "# List all shares\n"
   ]
  },
  {
   "cell_type": "code",
   "execution_count": 14,
   "id": "0416e4ab",
   "metadata": {},
   "outputs": [
    {
     "data": {
      "text/plain": [
       "[Share(name='delta_share1')]"
      ]
     },
     "execution_count": 14,
     "metadata": {},
     "output_type": "execute_result"
    }
   ],
   "source": [
    "client.list_shares()"
   ]
  },
  {
   "cell_type": "markdown",
   "id": "1e6c2a49",
   "metadata": {},
   "source": [
    "## List Schemas"
   ]
  },
  {
   "cell_type": "code",
   "execution_count": 18,
   "id": "29a721b5",
   "metadata": {},
   "outputs": [
    {
     "data": {
      "text/plain": [
       "[Schema(name='delta_schema', share='delta_share1'),\n",
       " Schema(name='delta_schema1', share='delta_share1')]"
      ]
     },
     "execution_count": 18,
     "metadata": {},
     "output_type": "execute_result"
    }
   ],
   "source": [
    "schemas = client.list_schemas(share=Share(\"delta_share1\"))\n",
    "schemas"
   ]
  },
  {
   "cell_type": "markdown",
   "id": "f6006581",
   "metadata": {},
   "source": [
    "## List Tables"
   ]
  },
  {
   "cell_type": "code",
   "execution_count": 19,
   "id": "aaf18ea4",
   "metadata": {},
   "outputs": [
    {
     "data": {
      "text/plain": [
       "[Table(name='test_hm', share='delta_share1', schema='delta_schema')]"
      ]
     },
     "execution_count": 19,
     "metadata": {},
     "output_type": "execute_result"
    }
   ],
   "source": [
    "client.list_tables(schemas[0])"
   ]
  },
  {
   "cell_type": "markdown",
   "id": "559d2d8b",
   "metadata": {},
   "source": [
    "## List all tables"
   ]
  },
  {
   "cell_type": "code",
   "execution_count": 20,
   "id": "4690a640",
   "metadata": {},
   "outputs": [
    {
     "data": {
      "text/plain": [
       "[Table(name='test_hm', share='delta_share1', schema='delta_schema'),\n",
       " Table(name='test_student', share='delta_share1', schema='delta_schema1')]"
      ]
     },
     "execution_count": 20,
     "metadata": {},
     "output_type": "execute_result"
    }
   ],
   "source": [
    "client.list_all_tables()"
   ]
  },
  {
   "cell_type": "markdown",
   "id": "18a01017",
   "metadata": {},
   "source": [
    "## Iceberg Table"
   ]
  },
  {
   "cell_type": "code",
   "execution_count": 21,
   "id": "a951bf59",
   "metadata": {
    "scrolled": false
   },
   "outputs": [],
   "source": [
    "# table_url = profile_file + \"#iceberg_share.tripsdb.iceberg_benchmark_nyc_taxi_trips_v2\"\n",
    "\n",
    "# Fetch 10 rows from a table and convert it to a Pandas DataFrame. This can be used to read sample data \n",
    "# from a table that cannot fit in the memory.\n",
    "# delta_sharing.load_as_pandas(table_url, limit=100,version=0)"
   ]
  },
  {
   "cell_type": "code",
   "execution_count": null,
   "id": "59eb4ed2",
   "metadata": {},
   "outputs": [],
   "source": []
  },
  {
   "cell_type": "markdown",
   "id": "84167764",
   "metadata": {},
   "source": [
    "## Delta Table"
   ]
  },
  {
   "cell_type": "code",
   "execution_count": 22,
   "id": "7e17a180",
   "metadata": {},
   "outputs": [
    {
     "data": {
      "text/html": [
       "<div>\n",
       "<style scoped>\n",
       "    .dataframe tbody tr th:only-of-type {\n",
       "        vertical-align: middle;\n",
       "    }\n",
       "\n",
       "    .dataframe tbody tr th {\n",
       "        vertical-align: top;\n",
       "    }\n",
       "\n",
       "    .dataframe thead th {\n",
       "        text-align: right;\n",
       "    }\n",
       "</style>\n",
       "<table border=\"1\" class=\"dataframe\">\n",
       "  <thead>\n",
       "    <tr style=\"text-align: right;\">\n",
       "      <th></th>\n",
       "      <th>id</th>\n",
       "      <th>name</th>\n",
       "      <th>department</th>\n",
       "    </tr>\n",
       "  </thead>\n",
       "  <tbody>\n",
       "    <tr>\n",
       "      <th>0</th>\n",
       "      <td>1</td>\n",
       "      <td>hm1</td>\n",
       "      <td>maths</td>\n",
       "    </tr>\n",
       "    <tr>\n",
       "      <th>1</th>\n",
       "      <td>2</td>\n",
       "      <td>hm2</td>\n",
       "      <td>maths</td>\n",
       "    </tr>\n",
       "    <tr>\n",
       "      <th>2</th>\n",
       "      <td>3</td>\n",
       "      <td>hm3</td>\n",
       "      <td>maths</td>\n",
       "    </tr>\n",
       "    <tr>\n",
       "      <th>3</th>\n",
       "      <td>4</td>\n",
       "      <td>hm4</td>\n",
       "      <td>maths1</td>\n",
       "    </tr>\n",
       "    <tr>\n",
       "      <th>4</th>\n",
       "      <td>5</td>\n",
       "      <td>hm5</td>\n",
       "      <td>maths1</td>\n",
       "    </tr>\n",
       "    <tr>\n",
       "      <th>5</th>\n",
       "      <td>6</td>\n",
       "      <td>hm6</td>\n",
       "      <td>maths6</td>\n",
       "    </tr>\n",
       "    <tr>\n",
       "      <th>6</th>\n",
       "      <td>7</td>\n",
       "      <td>hm7</td>\n",
       "      <td>maths7</td>\n",
       "    </tr>\n",
       "  </tbody>\n",
       "</table>\n",
       "</div>"
      ],
      "text/plain": [
       "   id name department\n",
       "0   1  hm1      maths\n",
       "1   2  hm2      maths\n",
       "2   3  hm3      maths\n",
       "3   4  hm4     maths1\n",
       "4   5  hm5     maths1\n",
       "5   6  hm6     maths6\n",
       "6   7  hm7     maths7"
      ]
     },
     "execution_count": 22,
     "metadata": {},
     "output_type": "execute_result"
    }
   ],
   "source": [
    "table_url = profile_file + \"#delta_share1.delta_schema.test_hm\"\n",
    "\n",
    "# Fetch 10 rows from a table and convert it to a Pandas DataFrame. This can be used to read sample data \n",
    "# from a table that cannot fit in the memory.\n",
    "delta_sharing.load_as_pandas(table_url, limit=10)"
   ]
  },
  {
   "cell_type": "code",
   "execution_count": null,
   "id": "9b8a9e54",
   "metadata": {},
   "outputs": [],
   "source": []
  }
 ],
 "metadata": {
  "kernelspec": {
   "display_name": "lakehouse-sharing",
   "language": "python",
   "name": "lakehouse-sharing"
  },
  "language_info": {
   "codemirror_mode": {
    "name": "ipython",
    "version": 3
   },
   "file_extension": ".py",
   "mimetype": "text/x-python",
   "name": "python",
   "nbconvert_exporter": "python",
   "pygments_lexer": "ipython3",
   "version": "3.11.1"
  }
 },
 "nbformat": 4,
 "nbformat_minor": 5
}

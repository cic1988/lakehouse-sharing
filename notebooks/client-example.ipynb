{
 "cells": [
  {
   "cell_type": "markdown",
   "id": "2532defd",
   "metadata": {},
   "source": [
    "## Lakehouse Sharing Example"
   ]
  },
  {
   "cell_type": "markdown",
   "id": "3f90b473",
   "metadata": {},
   "source": [
    "### Notebook setup \n",
    "\n",
    "Since we already have virtualenvs setup , to use the delta-sharing client for this lakehouse-sharing server, follow below steps\n",
    "- install ipykernel\n",
    "\n",
    "   ``` \n",
    "   pip install ipykernel\n",
    "   ```\n",
    "- register virtualenv in jupyter notebook\n",
    "    ``` \n",
    "    source venv/bin/activate\n",
    "    python -m ipykernel install --user --name=lakehouse-sharing\n",
    "    ```\n",
    "- Install deltasharing python client\n",
    "\n",
    "    ```\n",
    "    pip install delta-sharing\n",
    "    ```"
   ]
  },
  {
   "cell_type": "code",
   "execution_count": 1,
   "id": "ff71954b",
   "metadata": {},
   "outputs": [],
   "source": [
    "import delta_sharing\n",
    "from delta_sharing import Share,Schema,Table\n",
    "# Point to the profile file. It can be a file on the local file system or a file on a remote storage.\n",
    "profile_file = \"profile.json\"\n",
    "\n",
    "# Create a SharingClient.\n",
    "client = delta_sharing.SharingClient(profile_file)\n",
    "\n",
    "\n"
   ]
  },
  {
   "cell_type": "markdown",
   "id": "071ffd93",
   "metadata": {},
   "source": [
    "# List all shares\n"
   ]
  },
  {
   "cell_type": "code",
   "execution_count": 2,
   "id": "0416e4ab",
   "metadata": {},
   "outputs": [
    {
     "data": {
      "text/plain": [
       "[Share(name='delta_share1'),\n",
       " Share(name='delta_share2'),\n",
       " Share(name='delta_share3'),\n",
       " Share(name='iceberg_share')]"
      ]
     },
     "execution_count": 2,
     "metadata": {},
     "output_type": "execute_result"
    }
   ],
   "source": [
    "client.list_shares()"
   ]
  },
  {
   "cell_type": "markdown",
   "id": "1e6c2a49",
   "metadata": {},
   "source": [
    "## List Schemas"
   ]
  },
  {
   "cell_type": "code",
   "execution_count": 4,
   "id": "29a721b5",
   "metadata": {},
   "outputs": [
    {
     "data": {
      "text/plain": [
       "[Schema(name='tripsdb', share='iceberg_share')]"
      ]
     },
     "execution_count": 4,
     "metadata": {},
     "output_type": "execute_result"
    }
   ],
   "source": [
    "schemas = client.list_schemas(share=Share(\"iceberg_share\"))\n",
    "schemas"
   ]
  },
  {
   "cell_type": "markdown",
   "id": "f6006581",
   "metadata": {},
   "source": [
    "## List Tables"
   ]
  },
  {
   "cell_type": "code",
   "execution_count": 6,
   "id": "aaf18ea4",
   "metadata": {},
   "outputs": [
    {
     "data": {
      "text/plain": [
       "[Table(name='iceberg_benchmark_nyc_taxi_trips_v2', share='iceberg_share', schema='tripsdb')]"
      ]
     },
     "execution_count": 6,
     "metadata": {},
     "output_type": "execute_result"
    }
   ],
   "source": [
    "client.list_tables(schemas[0])"
   ]
  },
  {
   "cell_type": "markdown",
   "id": "559d2d8b",
   "metadata": {},
   "source": [
    "## List all tables"
   ]
  },
  {
   "cell_type": "code",
   "execution_count": 8,
   "id": "4690a640",
   "metadata": {},
   "outputs": [
    {
     "data": {
      "text/plain": [
       "[Table(name='test_hm', share='delta_share1', schema='delta_schema'),\n",
       " Table(name='test_student', share='delta_share1', schema='delta_schema1'),\n",
       " Table(name='test_hm', share='delta_share2', schema='schema2'),\n",
       " Table(name='test_teacher', share='delta_share3', schema='delta_schema2'),\n",
       " Table(name='iceberg_benchmark_nyc_taxi_trips_v2', share='iceberg_share', schema='tripsdb')]"
      ]
     },
     "execution_count": 8,
     "metadata": {},
     "output_type": "execute_result"
    }
   ],
   "source": [
    "client.list_all_tables()"
   ]
  },
  {
   "cell_type": "markdown",
   "id": "18a01017",
   "metadata": {},
   "source": [
    "## Iceberg Table"
   ]
  },
  {
   "cell_type": "code",
   "execution_count": 10,
   "id": "a951bf59",
   "metadata": {},
   "outputs": [
    {
     "data": {
      "text/html": [
       "<div>\n",
       "<style scoped>\n",
       "    .dataframe tbody tr th:only-of-type {\n",
       "        vertical-align: middle;\n",
       "    }\n",
       "\n",
       "    .dataframe tbody tr th {\n",
       "        vertical-align: top;\n",
       "    }\n",
       "\n",
       "    .dataframe thead th {\n",
       "        text-align: right;\n",
       "    }\n",
       "</style>\n",
       "<table border=\"1\" class=\"dataframe\">\n",
       "  <thead>\n",
       "    <tr style=\"text-align: right;\">\n",
       "      <th></th>\n",
       "      <th>VendorID</th>\n",
       "      <th>tpep_pickup_datetime</th>\n",
       "      <th>tpep_dropoff_datetime</th>\n",
       "      <th>passenger_count</th>\n",
       "      <th>trip_distance</th>\n",
       "      <th>RatecodeID</th>\n",
       "      <th>store_and_fwd_flag</th>\n",
       "      <th>PULocationID</th>\n",
       "      <th>DOLocationID</th>\n",
       "      <th>payment_type</th>\n",
       "      <th>fare_amount</th>\n",
       "      <th>extra</th>\n",
       "      <th>mta_tax</th>\n",
       "      <th>tip_amount</th>\n",
       "      <th>tolls_amount</th>\n",
       "      <th>improvement_surcharge</th>\n",
       "      <th>total_amount</th>\n",
       "      <th>congestion_surcharge</th>\n",
       "      <th>airport_fee</th>\n",
       "    </tr>\n",
       "  </thead>\n",
       "  <tbody>\n",
       "    <tr>\n",
       "      <th>0</th>\n",
       "      <td>2</td>\n",
       "      <td>2011-01-01 00:10:00+00:00</td>\n",
       "      <td>2011-01-01 00:12:00+00:00</td>\n",
       "      <td>4.0</td>\n",
       "      <td>0.00</td>\n",
       "      <td>1.0</td>\n",
       "      <td>None</td>\n",
       "      <td>145</td>\n",
       "      <td>145</td>\n",
       "      <td>1</td>\n",
       "      <td>2.9</td>\n",
       "      <td>0.5</td>\n",
       "      <td>0.5</td>\n",
       "      <td>0.28</td>\n",
       "      <td>0.0</td>\n",
       "      <td>0.0</td>\n",
       "      <td>4.18</td>\n",
       "      <td>NaN</td>\n",
       "      <td>NaN</td>\n",
       "    </tr>\n",
       "    <tr>\n",
       "      <th>1</th>\n",
       "      <td>2</td>\n",
       "      <td>2011-01-30 11:29:00+00:00</td>\n",
       "      <td>2011-01-30 11:33:00+00:00</td>\n",
       "      <td>1.0</td>\n",
       "      <td>0.09</td>\n",
       "      <td>1.0</td>\n",
       "      <td>None</td>\n",
       "      <td>107</td>\n",
       "      <td>170</td>\n",
       "      <td>1</td>\n",
       "      <td>4.5</td>\n",
       "      <td>0.0</td>\n",
       "      <td>0.5</td>\n",
       "      <td>2.00</td>\n",
       "      <td>0.0</td>\n",
       "      <td>0.0</td>\n",
       "      <td>7.00</td>\n",
       "      <td>NaN</td>\n",
       "      <td>NaN</td>\n",
       "    </tr>\n",
       "    <tr>\n",
       "      <th>2</th>\n",
       "      <td>2</td>\n",
       "      <td>2011-01-01 00:04:00+00:00</td>\n",
       "      <td>2011-01-01 00:13:00+00:00</td>\n",
       "      <td>4.0</td>\n",
       "      <td>0.00</td>\n",
       "      <td>1.0</td>\n",
       "      <td>None</td>\n",
       "      <td>264</td>\n",
       "      <td>264</td>\n",
       "      <td>1</td>\n",
       "      <td>5.7</td>\n",
       "      <td>0.5</td>\n",
       "      <td>0.5</td>\n",
       "      <td>0.24</td>\n",
       "      <td>0.0</td>\n",
       "      <td>0.0</td>\n",
       "      <td>6.94</td>\n",
       "      <td>NaN</td>\n",
       "      <td>NaN</td>\n",
       "    </tr>\n",
       "    <tr>\n",
       "      <th>3</th>\n",
       "      <td>2</td>\n",
       "      <td>2011-01-30 11:38:00+00:00</td>\n",
       "      <td>2011-01-30 11:44:00+00:00</td>\n",
       "      <td>1.0</td>\n",
       "      <td>0.09</td>\n",
       "      <td>1.0</td>\n",
       "      <td>None</td>\n",
       "      <td>100</td>\n",
       "      <td>246</td>\n",
       "      <td>2</td>\n",
       "      <td>5.3</td>\n",
       "      <td>0.0</td>\n",
       "      <td>0.5</td>\n",
       "      <td>0.00</td>\n",
       "      <td>0.0</td>\n",
       "      <td>0.0</td>\n",
       "      <td>5.80</td>\n",
       "      <td>NaN</td>\n",
       "      <td>NaN</td>\n",
       "    </tr>\n",
       "    <tr>\n",
       "      <th>4</th>\n",
       "      <td>2</td>\n",
       "      <td>2011-01-01 00:14:00+00:00</td>\n",
       "      <td>2011-01-01 00:16:00+00:00</td>\n",
       "      <td>4.0</td>\n",
       "      <td>0.00</td>\n",
       "      <td>1.0</td>\n",
       "      <td>None</td>\n",
       "      <td>264</td>\n",
       "      <td>264</td>\n",
       "      <td>1</td>\n",
       "      <td>2.9</td>\n",
       "      <td>0.5</td>\n",
       "      <td>0.5</td>\n",
       "      <td>1.11</td>\n",
       "      <td>0.0</td>\n",
       "      <td>0.0</td>\n",
       "      <td>5.01</td>\n",
       "      <td>NaN</td>\n",
       "      <td>NaN</td>\n",
       "    </tr>\n",
       "    <tr>\n",
       "      <th>5</th>\n",
       "      <td>2</td>\n",
       "      <td>2011-01-30 11:14:00+00:00</td>\n",
       "      <td>2011-01-30 11:27:00+00:00</td>\n",
       "      <td>2.0</td>\n",
       "      <td>2.41</td>\n",
       "      <td>1.0</td>\n",
       "      <td>None</td>\n",
       "      <td>237</td>\n",
       "      <td>246</td>\n",
       "      <td>1</td>\n",
       "      <td>9.3</td>\n",
       "      <td>0.0</td>\n",
       "      <td>0.5</td>\n",
       "      <td>3.00</td>\n",
       "      <td>0.0</td>\n",
       "      <td>0.0</td>\n",
       "      <td>12.80</td>\n",
       "      <td>NaN</td>\n",
       "      <td>NaN</td>\n",
       "    </tr>\n",
       "    <tr>\n",
       "      <th>6</th>\n",
       "      <td>2</td>\n",
       "      <td>2011-01-01 00:04:00+00:00</td>\n",
       "      <td>2011-01-01 00:06:00+00:00</td>\n",
       "      <td>5.0</td>\n",
       "      <td>0.00</td>\n",
       "      <td>1.0</td>\n",
       "      <td>None</td>\n",
       "      <td>146</td>\n",
       "      <td>146</td>\n",
       "      <td>1</td>\n",
       "      <td>2.9</td>\n",
       "      <td>0.5</td>\n",
       "      <td>0.5</td>\n",
       "      <td>0.00</td>\n",
       "      <td>0.0</td>\n",
       "      <td>0.0</td>\n",
       "      <td>3.90</td>\n",
       "      <td>NaN</td>\n",
       "      <td>NaN</td>\n",
       "    </tr>\n",
       "    <tr>\n",
       "      <th>7</th>\n",
       "      <td>2</td>\n",
       "      <td>2011-01-30 11:28:00+00:00</td>\n",
       "      <td>2011-01-30 11:44:00+00:00</td>\n",
       "      <td>3.0</td>\n",
       "      <td>2.61</td>\n",
       "      <td>1.0</td>\n",
       "      <td>None</td>\n",
       "      <td>246</td>\n",
       "      <td>107</td>\n",
       "      <td>1</td>\n",
       "      <td>10.5</td>\n",
       "      <td>0.0</td>\n",
       "      <td>0.5</td>\n",
       "      <td>2.00</td>\n",
       "      <td>0.0</td>\n",
       "      <td>0.0</td>\n",
       "      <td>13.00</td>\n",
       "      <td>NaN</td>\n",
       "      <td>NaN</td>\n",
       "    </tr>\n",
       "    <tr>\n",
       "      <th>8</th>\n",
       "      <td>2</td>\n",
       "      <td>2011-01-01 00:08:00+00:00</td>\n",
       "      <td>2011-01-01 00:08:00+00:00</td>\n",
       "      <td>5.0</td>\n",
       "      <td>0.00</td>\n",
       "      <td>1.0</td>\n",
       "      <td>None</td>\n",
       "      <td>146</td>\n",
       "      <td>146</td>\n",
       "      <td>1</td>\n",
       "      <td>2.5</td>\n",
       "      <td>0.5</td>\n",
       "      <td>0.5</td>\n",
       "      <td>0.11</td>\n",
       "      <td>0.0</td>\n",
       "      <td>0.0</td>\n",
       "      <td>3.61</td>\n",
       "      <td>NaN</td>\n",
       "      <td>NaN</td>\n",
       "    </tr>\n",
       "    <tr>\n",
       "      <th>9</th>\n",
       "      <td>2</td>\n",
       "      <td>2011-01-30 11:46:00+00:00</td>\n",
       "      <td>2011-01-30 11:54:00+00:00</td>\n",
       "      <td>2.0</td>\n",
       "      <td>1.77</td>\n",
       "      <td>1.0</td>\n",
       "      <td>None</td>\n",
       "      <td>107</td>\n",
       "      <td>161</td>\n",
       "      <td>2</td>\n",
       "      <td>6.9</td>\n",
       "      <td>0.0</td>\n",
       "      <td>0.5</td>\n",
       "      <td>0.00</td>\n",
       "      <td>0.0</td>\n",
       "      <td>0.0</td>\n",
       "      <td>7.40</td>\n",
       "      <td>NaN</td>\n",
       "      <td>NaN</td>\n",
       "    </tr>\n",
       "  </tbody>\n",
       "</table>\n",
       "</div>"
      ],
      "text/plain": [
       "   VendorID      tpep_pickup_datetime     tpep_dropoff_datetime  \\\n",
       "0         2 2011-01-01 00:10:00+00:00 2011-01-01 00:12:00+00:00   \n",
       "1         2 2011-01-30 11:29:00+00:00 2011-01-30 11:33:00+00:00   \n",
       "2         2 2011-01-01 00:04:00+00:00 2011-01-01 00:13:00+00:00   \n",
       "3         2 2011-01-30 11:38:00+00:00 2011-01-30 11:44:00+00:00   \n",
       "4         2 2011-01-01 00:14:00+00:00 2011-01-01 00:16:00+00:00   \n",
       "5         2 2011-01-30 11:14:00+00:00 2011-01-30 11:27:00+00:00   \n",
       "6         2 2011-01-01 00:04:00+00:00 2011-01-01 00:06:00+00:00   \n",
       "7         2 2011-01-30 11:28:00+00:00 2011-01-30 11:44:00+00:00   \n",
       "8         2 2011-01-01 00:08:00+00:00 2011-01-01 00:08:00+00:00   \n",
       "9         2 2011-01-30 11:46:00+00:00 2011-01-30 11:54:00+00:00   \n",
       "\n",
       "   passenger_count  trip_distance  RatecodeID store_and_fwd_flag  \\\n",
       "0              4.0           0.00         1.0               None   \n",
       "1              1.0           0.09         1.0               None   \n",
       "2              4.0           0.00         1.0               None   \n",
       "3              1.0           0.09         1.0               None   \n",
       "4              4.0           0.00         1.0               None   \n",
       "5              2.0           2.41         1.0               None   \n",
       "6              5.0           0.00         1.0               None   \n",
       "7              3.0           2.61         1.0               None   \n",
       "8              5.0           0.00         1.0               None   \n",
       "9              2.0           1.77         1.0               None   \n",
       "\n",
       "   PULocationID  DOLocationID  payment_type  fare_amount  extra  mta_tax  \\\n",
       "0           145           145             1          2.9    0.5      0.5   \n",
       "1           107           170             1          4.5    0.0      0.5   \n",
       "2           264           264             1          5.7    0.5      0.5   \n",
       "3           100           246             2          5.3    0.0      0.5   \n",
       "4           264           264             1          2.9    0.5      0.5   \n",
       "5           237           246             1          9.3    0.0      0.5   \n",
       "6           146           146             1          2.9    0.5      0.5   \n",
       "7           246           107             1         10.5    0.0      0.5   \n",
       "8           146           146             1          2.5    0.5      0.5   \n",
       "9           107           161             2          6.9    0.0      0.5   \n",
       "\n",
       "   tip_amount  tolls_amount  improvement_surcharge  total_amount  \\\n",
       "0        0.28           0.0                    0.0          4.18   \n",
       "1        2.00           0.0                    0.0          7.00   \n",
       "2        0.24           0.0                    0.0          6.94   \n",
       "3        0.00           0.0                    0.0          5.80   \n",
       "4        1.11           0.0                    0.0          5.01   \n",
       "5        3.00           0.0                    0.0         12.80   \n",
       "6        0.00           0.0                    0.0          3.90   \n",
       "7        2.00           0.0                    0.0         13.00   \n",
       "8        0.11           0.0                    0.0          3.61   \n",
       "9        0.00           0.0                    0.0          7.40   \n",
       "\n",
       "   congestion_surcharge  airport_fee  \n",
       "0                   NaN          NaN  \n",
       "1                   NaN          NaN  \n",
       "2                   NaN          NaN  \n",
       "3                   NaN          NaN  \n",
       "4                   NaN          NaN  \n",
       "5                   NaN          NaN  \n",
       "6                   NaN          NaN  \n",
       "7                   NaN          NaN  \n",
       "8                   NaN          NaN  \n",
       "9                   NaN          NaN  "
      ]
     },
     "execution_count": 10,
     "metadata": {},
     "output_type": "execute_result"
    }
   ],
   "source": [
    "table_url = profile_file + \"#iceberg_share.tripsdb.iceberg_benchmark_nyc_taxi_trips_v2\"\n",
    "\n",
    "# Fetch 10 rows from a table and convert it to a Pandas DataFrame. This can be used to read sample data \n",
    "# from a table that cannot fit in the memory.\n",
    "delta_sharing.load_as_pandas(table_url, limit=10)"
   ]
  },
  {
   "cell_type": "code",
   "execution_count": null,
   "id": "59eb4ed2",
   "metadata": {},
   "outputs": [],
   "source": []
  },
  {
   "cell_type": "markdown",
   "id": "84167764",
   "metadata": {},
   "source": [
    "## Delta Table"
   ]
  },
  {
   "cell_type": "code",
   "execution_count": null,
   "id": "7e17a180",
   "metadata": {},
   "outputs": [],
   "source": [
    "table_url = profile_file + \"#iceberg_share.tripsdb.iceberg_benchmark_nyc_taxi_trips_v2\"\n",
    "\n",
    "# Fetch 10 rows from a table and convert it to a Pandas DataFrame. This can be used to read sample data \n",
    "# from a table that cannot fit in the memory.\n",
    "delta_sharing.load_as_pandas(table_url, limit=10)"
   ]
  }
 ],
 "metadata": {
  "kernelspec": {
   "display_name": "lakehouse-sharing",
   "language": "python",
   "name": "lakehouse-sharing"
  },
  "language_info": {
   "codemirror_mode": {
    "name": "ipython",
    "version": 3
   },
   "file_extension": ".py",
   "mimetype": "text/x-python",
   "name": "python",
   "nbconvert_exporter": "python",
   "pygments_lexer": "ipython3",
   "version": "3.11.1"
  }
 },
 "nbformat": 4,
 "nbformat_minor": 5
}
